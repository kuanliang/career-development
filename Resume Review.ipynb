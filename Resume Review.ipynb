{
 "cells": [
  {
   "cell_type": "markdown",
   "metadata": {},
   "source": [
    "# Quiz 1. \n",
    "\n",
    "Questions:  \n",
    "1. How many pages is your current resume?  \n",
    "7\n",
    "2. What was the last time you updated your resume?  \n",
    "Nov, 2015\n",
    "3. How often do you update your resume?  \n",
    "Usually 6 months at least. If I complete something, like a coursera, Edx, udacity course, I will update my resume accordingly.\n",
    "4. What is one thing that you would like to improve your resume?  \n",
    "I used to pur MOOC courses that I took before in other sections. I would like to forward them to education section.\n",
    "5. What is one thing you like your current resumt?  \n",
    "It is clear, and full of information. "
   ]
  },
  {
   "cell_type": "markdown",
   "metadata": {},
   "source": [
    "# master resume"
   ]
  },
  {
   "cell_type": "markdown",
   "metadata": {},
   "source": [
    "# targeted resume\n",
    "## structure your resume\n",
    "### Example of column orders\n",
    "- **_Career change_**: Heading, Summary Statement, Skills, Projects, Experience, Education, etc.\n",
    "- **_New graduate_**: Heading, Education, Skills, Projects, Experience, Activities, Achievements, etc.\n",
    "- **_Extensive in same industry_**: Heading, Skills, Projects, Experiences, Education, Publication, Achievements, etc."
   ]
  },
  {
   "cell_type": "markdown",
   "metadata": {},
   "source": []
  },
  {
   "cell_type": "markdown",
   "metadata": {},
   "source": []
  },
  {
   "cell_type": "code",
   "execution_count": null,
   "metadata": {
    "collapsed": true
   },
   "outputs": [],
   "source": []
  }
 ],
 "metadata": {
  "kernelspec": {
   "display_name": "Python 2",
   "language": "python",
   "name": "python2"
  },
  "language_info": {
   "codemirror_mode": {
    "name": "ipython",
    "version": 2
   },
   "file_extension": ".py",
   "mimetype": "text/x-python",
   "name": "python",
   "nbconvert_exporter": "python",
   "pygments_lexer": "ipython2",
   "version": "2.7.9"
  }
 },
 "nbformat": 4,
 "nbformat_minor": 0
}
